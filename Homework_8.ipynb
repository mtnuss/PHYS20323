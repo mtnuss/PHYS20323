{
 "cells": [
  {
   "cell_type": "code",
   "execution_count": 1,
   "metadata": {},
   "outputs": [],
   "source": [
    "# Matthew Nuss, Coding homework 8, due Friday, October 9, 2020. 5:00 pm. "
   ]
  },
  {
   "cell_type": "markdown",
   "metadata": {},
   "source": [
    "1. (a)"
   ]
  },
  {
   "cell_type": "code",
   "execution_count": 87,
   "metadata": {},
   "outputs": [
    {
     "name": "stdout",
     "output_type": "stream",
     "text": [
      "Input the a-value behind x-squared: 0.001\n",
      "Input the b-value behind x: 1000\n",
      "Input the c-value, the constant: 0.001\n",
      "The two solutions are: -9.999894245993346e-07 -999999.999999\n"
     ]
    }
   ],
   "source": [
    "# the input values. This question has a=0.001, b=1000, c=0.001\n",
    "\n",
    "a = float(input(\"Input the a-value behind x-squared: \"))\n",
    "b = float(input(\"Input the b-value behind x: \"))\n",
    "c = float(input(\"Input the c-value, the constant: \"))\n",
    "\n",
    "# quadratic equation solutions, + and -\n",
    "x_plus = ((-1*b) + (((b**2)-(4*a*c))**(0.5)))/(2*a)  \n",
    "x_minus = ((-1*b) - (((b**2)-(4*a*c))**(0.5)))/(2*a)\n",
    "\n",
    "# print statements\n",
    "print(\"The two solutions are:\", x_plus, x_minus)"
   ]
  },
  {
   "cell_type": "markdown",
   "metadata": {},
   "source": [
    "1. (b)"
   ]
  },
  {
   "cell_type": "code",
   "execution_count": 1,
   "metadata": {},
   "outputs": [
    {
     "name": "stdout",
     "output_type": "stream",
     "text": [
      "Input the a-value behind x-squared: 0.001\n",
      "Input the b-value behind x: 1000\n",
      "Input the c-value, the constant: 0.001\n",
      "The two solutions are: 2.002002006010014e-09 -1.99800200199401e-09\n"
     ]
    }
   ],
   "source": [
    "# the input values. This question has a=0.001, b=1000, c=0.001\n",
    "\n",
    "a = float(input(\"Input the a-value behind x-squared: \"))\n",
    "b = float(input(\"Input the b-value behind x: \"))\n",
    "c = float(input(\"Input the c-value, the constant: \"))\n",
    "\n",
    "# other quadratic equation solutions, + and -\n",
    "x_plus_other = (2*c)/((-1*b) + (((b**2)-(4*a*c)**(0.5))))  \n",
    "x_minus_other = (2*c)/((-1*b) - (((b**2)-(4*a*c)**(0.5))))\n",
    "\n",
    "# print statements\n",
    "print(\"The two solutions are:\", x_plus_other, x_minus_other)"
   ]
  },
  {
   "cell_type": "markdown",
   "metadata": {},
   "source": [
    "We see that though we have the equation for the quadratic equation coded in, we have the wrong answers. This is due to the programs ability to be accurate. As we do more subtraction with numbers closer and closer together, our chance for error in the calculation increases, which is what is happening above. That is why the goal of part (c) is to figure out a way to combine the best of each form of the equation, so we get the corrent answer all the time. Something we learned when I used two different quadratic formula calculators. One only used the method from (a), so they didn't take this error into account and thus will sometimes give the wrong answer. "
   ]
  },
  {
   "cell_type": "markdown",
   "metadata": {},
   "source": [
    "### Below are notes for the problem solving, ignore if you want."
   ]
  },
  {
   "cell_type": "markdown",
   "metadata": {},
   "source": [
    "Expected values are -499,999 for \"plus\" and 500,001 for \"plus\" for the inputs... let's analyze with a=5, b=100, and c=1 to analyze better... expect -0.010005 for \"plus\" and -19.989995 for \"minus\". a=5, b=10, c=1 we expect -0.10557 for \"plus\" and -1.8944 for \"minus\""
   ]
  },
  {
   "cell_type": "markdown",
   "metadata": {},
   "source": [
    "x_plus: works well for all cases it seems, for 0.001, 1000, 0.001 got ; for 5, 10, 1 got really close, and for 5, 100, 1 got the exact number. GOOD FOR IMAGINARY SOLUTIONS, WHEN B^2 < 4*A*C\n",
    "\n",
    "x_plus_other: does not work for any cases. Was far off on all trials. DOES NOT SHOW IMAGINARY SOLUTIONS\n",
    "\n",
    "##doing a new trial for the minus to get accuracy for numbers close together. a=1.1, b=1, c=0.1, expect -0.114395 and -0.794696\n",
    "\n",
    "x_minus: works well for cases when b^2-4ac is very large, especially under the radical. Got the exact answer for 5, 100, 1. GOOD FOR IMAGINARY SOLUTIONS, WHEN B^2 < 4*A*C\n",
    "\n",
    "x_minus_other: when the numbers are further apart does not work well, off by a few factors. off for medium range numbers such as the 5, 10, 1. DOES NOT SHOW IMAGINARY SOLUTIONS. should work for when. good when -b- sqrt(b^2-4ac) < 2e-7."
   ]
  },
  {
   "cell_type": "markdown",
   "metadata": {},
   "source": [
    "## Okay you can stop ignoring now. "
   ]
  },
  {
   "cell_type": "markdown",
   "metadata": {},
   "source": [
    "1. (c)"
   ]
  },
  {
   "cell_type": "code",
   "execution_count": 3,
   "metadata": {},
   "outputs": [
    {
     "name": "stdout",
     "output_type": "stream",
     "text": [
      "Input the a-value behind x-squared: 0.001\n",
      "Input the b-value behind x: 1000\n",
      "Input the c-value, the constant: 0.001\n",
      "The two solutions are: -9.999894245993346e-07 -999999.999999\n"
     ]
    }
   ],
   "source": [
    "# use if statements to set parameters for which equation to use and when. \n",
    "# now to use these parameters found to solve for best solution!\n",
    "\n",
    "# the input values. This question has a=0.001, b=1000, c=0.001\n",
    "\n",
    "a = float(input(\"Input the a-value behind x-squared: \"))\n",
    "b = float(input(\"Input the b-value behind x: \"))\n",
    "c = float(input(\"Input the c-value, the constant: \"))\n",
    "\n",
    "# x_plus_best\n",
    "x_plus_best = ((-1*b) + (((b**2)-(4*a*c))**(0.5)))/(2*a)\n",
    "\n",
    "# x_minus_best \n",
    "if ((-1*b) - (((b**2)-(4*a*c)**(0.5)))) > 0:\n",
    "    x_minus_best = (2*c)/((-1*b) - (((b**2)-(4*a*c)**(0.5))))\n",
    "    \n",
    "if ((-1*b) - (((b**2)-(4*a*c)**(0.5)))) <= 2e-7:\n",
    "    x_minus_best = (2*c)/((-1*b) - (((b**2)-(4*a*c)**(0.5))))\n",
    "    \n",
    "if ((-1*b) - (((b**2)-(4*a*c)**(0.5)))) <= 0:\n",
    "    x_minus_best = ((-1*b) - (((b**2)-(4*a*c))**(0.5)))/(2*a)\n",
    "    \n",
    "if ((-1*b) - (((b**2)-(4*a*c)**(0.5)))) > 2e-7:\n",
    "    x_minus_best = ((-1*b) - (((b**2)-(4*a*c))**(0.5)))/(2*a)\n",
    "    \n",
    "# print statements\n",
    "print(\"The two solutions are:\", x_plus_best, x_minus_best)"
   ]
  },
  {
   "cell_type": "markdown",
   "metadata": {},
   "source": [
    "2. (a)"
   ]
  },
  {
   "cell_type": "code",
   "execution_count": 2,
   "metadata": {},
   "outputs": [],
   "source": [
    "# define the known values/constants, SI units. Import math.\n",
    "import numpy as np\n",
    "from numpy import math\n",
    "Temp = 5  ## range in T from 5 to 500 K\n",
    "\n",
    "\n",
    "def cv(T): \n",
    "    V = 0.001\n",
    "    rho = 6.022e28\n",
    "    theta = 428\n",
    "    k = 1.380649e-23\n",
    "    # the integral\n",
    "    def f(x):\n",
    "        if x == 0:\n",
    "            return 0\n",
    "        else:\n",
    "            return (x**4)*(np.exp(x))/(((np.exp(x))-1)**2)\n",
    "\n",
    "    N = 1000\n",
    "    a = 0\n",
    "    b = theta/T\n",
    "    h = (b-a)/N\n",
    "\n",
    "    s = 0.5*f(a) + 0.5*f(b)\n",
    "    for k in range (1,N):\n",
    "        s += f(a+k*h)\n",
    "\n",
    "    return 9*V*rho*k*((T/theta)**3*(h*s))\n",
    "\n",
    "# print(cv(Temp))\n",
    "\n",
    "# make for loop to generate the values of temp and cv, then want to store these values\n",
    "temp_plot = []\n",
    "cv_plot = []\n",
    "for temp in range(5,505,5):\n",
    "    temp_plot.append(temp)  ## x-value, temperature\n",
    "    cv_plot.append(cv(temp)) ## y-value, cv(temp)\n",
    "    \n",
    "# temp_plot\n",
    "# cv_plot"
   ]
  },
  {
   "cell_type": "markdown",
   "metadata": {},
   "source": [
    "2. (b)"
   ]
  },
  {
   "cell_type": "code",
   "execution_count": 42,
   "metadata": {},
   "outputs": [
    {
     "data": {
      "image/png": "[encoded data removed]",
      "text/plain": [
       "<Figure size 1440x720 with 1 Axes>"
      ]
     },
     "metadata": {
      "needs_background": "light"
     },
     "output_type": "display_data"
    }
   ],
   "source": [
    "# now to plot...\n",
    "# import package\n",
    "from matplotlib import pyplot as plt\n",
    "\n",
    "# make figure\n",
    "fig = plt.figure(figsize=(20,10))\n",
    "ax = fig.add_subplot(111)\n",
    "ax.scatter(temp_plot,cv_plot,s=5,c='k',alpha=0.3)\n",
    "\n",
    "# add the labels\n",
    "ax.set_xlabel(\"Temperature $(K)$\",size=20)\n",
    "ax.set_ylabel(\"$C_{v}$ $(J/K)$\",size=20)\n",
    "\n",
    "# increase the size of the numbers on the axes\n",
    "ax.xaxis.set_tick_params(labelsize=20)\n",
    "ax.yaxis.set_tick_params(labelsize=20)\n",
    "\n",
    "## make sure to post the figure itself in GitHub!"
   ]
  }
 ],
 "metadata": {
  "kernelspec": {
   "display_name": "Python 3",
   "language": "python",
   "name": "python3"
  },
  "language_info": {
   "codemirror_mode": {
    "name": "ipython",
    "version": 3
   },
   "file_extension": ".py",
   "mimetype": "text/x-python",
   "name": "python",
   "nbconvert_exporter": "python",
   "pygments_lexer": "ipython3",
   "version": "3.7.4"
  }
 },
 "nbformat": 4,
 "nbformat_minor": 2
}
